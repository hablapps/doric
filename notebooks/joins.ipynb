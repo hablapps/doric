{
 "cells": [
  {
   "cell_type": "markdown",
   "id": "5bb461a5",
   "metadata": {},
   "source": [
    "## Joins (doric join function)\n",
    "Joins in spark are very coupled to the dataframes, for example for dataframes:"
   ]
  },
  {
   "cell_type": "code",
   "execution_count": 22,
   "id": "477636fc",
   "metadata": {},
   "outputs": [
    {
     "data": {
      "text/plain": [
       "\u001b[36mleftdf\u001b[39m: \u001b[32mDataFrame\u001b[39m = [id-left: int, value-left: string]\n",
       "\u001b[36mrightdf\u001b[39m: \u001b[32mDataFrame\u001b[39m = [id-right: int, value-right: string]"
      ]
     },
     "execution_count": 22,
     "metadata": {},
     "output_type": "execute_result"
    }
   ],
   "source": [
    "val leftdf = List((1,\"hi\"), (2, \"bye\")).toDF(\"id-left\", \"value-left\")\n",
    "val rightdf = List((1,\"hi\"), (2, \"bye\")).toDF(\"id-right\", \"value-right\")"
   ]
  },
  {
   "cell_type": "code",
   "execution_count": 23,
   "id": "41f0fc00",
   "metadata": {},
   "outputs": [
    {
     "name": "stdout",
     "output_type": "stream",
     "text": [
      "+-------+----------+--------+-----------+\n",
      "|id-left|value-left|id-right|value-right|\n",
      "+-------+----------+--------+-----------+\n",
      "|      1|        hi|       1|         hi|\n",
      "|      2|       bye|       2|        bye|\n",
      "+-------+----------+--------+-----------+\n",
      "\n"
     ]
    }
   ],
   "source": [
    "leftdf.join(rightdf, col(\"id-left\") === col(\"id-right\")).show"
   ]
  },
  {
   "cell_type": "markdown",
   "id": "0669aa88",
   "metadata": {},
   "source": [
    "This case we can do it because the columns to join have different names, but in case we have same name columns, we have to couple more the condition, using alias or the dataframes to extract the column reference."
   ]
  },
  {
   "cell_type": "code",
   "execution_count": 24,
   "id": "523c1243",
   "metadata": {},
   "outputs": [
    {
     "data": {
      "text/plain": [
       "\u001b[36mleftdf2\u001b[39m: \u001b[32mDataFrame\u001b[39m = [id: int, value-left: string]\n",
       "\u001b[36mrightdf2\u001b[39m: \u001b[32mDataFrame\u001b[39m = [id: int, value-right: string]"
      ]
     },
     "execution_count": 24,
     "metadata": {},
     "output_type": "execute_result"
    }
   ],
   "source": [
    "val leftdf2 = List((1,\"hi\"), (2, \"bye\")).toDF(\"id\", \"value-left\")\n",
    "val rightdf2 = List((1,\"hi\"), (2, \"bye\")).toDF(\"id\", \"value-right\")"
   ]
  },
  {
   "cell_type": "code",
   "execution_count": 25,
   "id": "80c4c614",
   "metadata": {},
   "outputs": [
    {
     "name": "stdout",
     "output_type": "stream",
     "text": [
      "+---+----------+---+-----------+\n",
      "| id|value-left| id|value-right|\n",
      "+---+----------+---+-----------+\n",
      "|  1|        hi|  1|         hi|\n",
      "|  2|       bye|  2|        bye|\n",
      "+---+----------+---+-----------+\n",
      "\n"
     ]
    }
   ],
   "source": [
    "leftdf2.alias(\"left\")\n",
    ".join(rightdf2.alias(\"right\"), col(\"left.id\") === col(\"right.id\"))\n",
    ".show"
   ]
  },
  {
   "cell_type": "code",
   "execution_count": 26,
   "id": "bb1c606a",
   "metadata": {},
   "outputs": [
    {
     "name": "stdout",
     "output_type": "stream",
     "text": [
      "+---+----------+---+-----------+\n",
      "| id|value-left| id|value-right|\n",
      "+---+----------+---+-----------+\n",
      "|  1|        hi|  1|         hi|\n",
      "|  2|       bye|  2|        bye|\n",
      "+---+----------+---+-----------+\n",
      "\n"
     ]
    }
   ],
   "source": [
    "leftdf2\n",
    ".join(rightdf2, leftdf2(\"id\") === rightdf2(\"id\"))\n",
    ".show"
   ]
  },
  {
   "cell_type": "markdown",
   "id": "284c9501",
   "metadata": {},
   "source": [
    "Doric porpouse is to help you decouple your application and make it safer. This examples are very easy but imagine that id in each dataframe is of a different type, we will have the same problem that we had in previous examples. Also, as said, the condition is coupled to this two dataframes or alias.\n",
    "Doric has a twist for this aproach with a doric join function, a condition that needs to match a left column element and a right column element, but not coupled to already defined dataframes."
   ]
  },
  {
   "cell_type": "code",
   "execution_count": 27,
   "id": "27df74b8",
   "metadata": {},
   "outputs": [
    {
     "name": "stdout",
     "output_type": "stream",
     "text": [
      "+---+----------+---+-----------+\n",
      "| id|value-left| id|value-right|\n",
      "+---+----------+---+-----------+\n",
      "|  1|        hi|  1|         hi|\n",
      "|  2|       bye|  2|        bye|\n",
      "+---+----------+---+-----------+\n",
      "\n"
     ]
    },
    {
     "data": {
      "text/plain": [
       "\u001b[36mjoinFunc\u001b[39m: \u001b[32mDoricJoinColumn\u001b[39m = \u001b[33mDoricJoinColumn\u001b[39m(\n",
       "  \u001b[33mKleisli\u001b[39m(habla.doric.package$LeftDoricColumn$$Lambda$5377/276981435@bfa711f)\n",
       ")"
      ]
     },
     "execution_count": 27,
     "metadata": {},
     "output_type": "execute_result"
    }
   ],
   "source": [
    "val joinFunc = LeftDF.colInt(\"id\") === RightDF.colInt(\"id\")\n",
    "leftdf2.join(rightdf2, joinFunc, \"inner\").show"
   ]
  },
  {
   "cell_type": "markdown",
   "id": "521e9386",
   "metadata": {},
   "source": [
    "In cases that you need to preprocess your column, buth without creating one, is also very easy:"
   ]
  },
  {
   "cell_type": "code",
   "execution_count": 28,
   "id": "b13cb054",
   "metadata": {},
   "outputs": [
    {
     "data": {
      "text/plain": [
       "\u001b[36mleftdf2\u001b[39m: \u001b[32mDataFrame\u001b[39m = [id: string, value-left: string]\n",
       "\u001b[36mrightdf2\u001b[39m: \u001b[32mDataFrame\u001b[39m = [id: int, value-right: string]"
      ]
     },
     "execution_count": 28,
     "metadata": {},
     "output_type": "execute_result"
    }
   ],
   "source": [
    "val leftdf2 = List((\"1\",\"hi\"), (\"2\", \"bye\")).toDF(\"id\", \"value-left\")\n",
    "val rightdf2 = List((1,\"hi\"), (2, \"bye\")).toDF(\"id\", \"value-right\")"
   ]
  },
  {
   "cell_type": "code",
   "execution_count": 29,
   "id": "dbd617e9",
   "metadata": {},
   "outputs": [
    {
     "name": "stdout",
     "output_type": "stream",
     "text": [
      "+---+----------+---+-----------+\n",
      "| id|value-left| id|value-right|\n",
      "+---+----------+---+-----------+\n",
      "|  1|        hi|  1|         hi|\n",
      "|  2|       bye|  2|        bye|\n",
      "+---+----------+---+-----------+\n",
      "\n"
     ]
    },
    {
     "data": {
      "text/plain": [
       "\u001b[36mjoinFunc2\u001b[39m: \u001b[32mDoricJoinColumn\u001b[39m = \u001b[33mDoricJoinColumn\u001b[39m(\n",
       "  \u001b[33mKleisli\u001b[39m(habla.doric.package$LeftDoricColumn$$Lambda$5377/276981435@43139be3)\n",
       ")"
      ]
     },
     "execution_count": 29,
     "metadata": {},
     "output_type": "execute_result"
    }
   ],
   "source": [
    "val joinFunc2 = LeftDF.colString(\"id\") === RightDF(colInt(\"id\").cast[String])\n",
    "leftdf2.join(rightdf2, joinFunc2, \"inner\").show"
   ]
  },
  {
   "cell_type": "markdown",
   "id": "37eeb783",
   "metadata": {},
   "source": [
    "And as you imagine, we stil have all the goodies that doric give us of type cheking and error location :D"
   ]
  },
  {
   "cell_type": "code",
   "execution_count": 30,
   "id": "0227f7c4",
   "metadata": {},
   "outputs": [
    {
     "ename": "",
     "evalue": "",
     "output_type": "error",
     "traceback": [
      "\u001b[31mhabla.doric.DoricMultiError: Found 2 errors in join\n\tFound 1 error in Left dataframe\n\t\tThe column with name 'id' is of type StringType and it was expected to be IntegerType\n\t\t\tlocated at . (cmd29.sc:1)\n\t\n\tFound 1 error in Right dataframe\n\t\tThe column with name 'id' is of type StringType and it was expected to be IntegerType\n\t\t\tlocated at . (cmd29.sc:1)\n\t\n\u001b[39m\n  habla.doric.syntax.DataFrameOps$DataframeSyntax$ErrorThrower.$anonfun$returnOrThrow$1(\u001b[32mDataFrameOps.scala\u001b[39m:\u001b[32m16\u001b[39m)\n  cats.data.Validated.fold(\u001b[32mValidated.scala\u001b[39m:\u001b[32m29\u001b[39m)\n  habla.doric.syntax.DataFrameOps$DataframeSyntax$ErrorThrower.returnOrThrow(\u001b[32mDataFrameOps.scala\u001b[39m:\u001b[32m16\u001b[39m)\n  habla.doric.syntax.DataFrameOps$DataframeSyntax.join(\u001b[32mDataFrameOps.scala\u001b[39m:\u001b[32m90\u001b[39m)\n  ammonite.$sess.cmd29$Helper.<init>(\u001b[32mcmd29.sc\u001b[39m:\u001b[32m2\u001b[39m)\n  ammonite.$sess.cmd29$.<init>(\u001b[32mcmd29.sc\u001b[39m:\u001b[32m7\u001b[39m)\n  ammonite.$sess.cmd29$.<clinit>(\u001b[32mcmd29.sc\u001b[39m:\u001b[32m-1\u001b[39m)"
     ]
    }
   ],
   "source": [
    "val joinFunc2 = LeftDF.colInt(\"id\") === RightDF.colInt(\"id-2\")\n",
    "leftdf2.join(rightdf2, joinFunc2, \"inner\").show"
   ]
  },
  {
   "cell_type": "code",
   "execution_count": null,
   "id": "e0ae160d",
   "metadata": {},
   "outputs": [],
   "source": []
  }
 ],
 "metadata": {
  "kernelspec": {
   "display_name": "Scala (2.12)",
   "language": "scala",
   "name": "scala212"
  },
  "language_info": {
   "codemirror_mode": "text/x-scala",
   "file_extension": ".sc",
   "mimetype": "text/x-scala",
   "name": "scala",
   "nbconvert_exporter": "script",
   "version": "2.12.11"
  }
 },
 "nbformat": 4,
 "nbformat_minor": 5
}
